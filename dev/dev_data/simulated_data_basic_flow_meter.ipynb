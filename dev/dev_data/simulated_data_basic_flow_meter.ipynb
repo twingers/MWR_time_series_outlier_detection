{
 "cells": [
  {
   "cell_type": "markdown",
   "metadata": {},
   "source": [
    "This code creates a simulation of a flow meter sensor with a range between 0-200.  There is 0.1% outliers in the data.  It also has data where there is no flow, where the value is 0.  If the meter fails, it goes to 500."
   ]
  },
  {
   "cell_type": "markdown",
   "metadata": {},
   "source": [
    "Python script that generates flow meter time series data with all your specified requirements. Here's what the code does:\n",
    "\n",
    "1. Generates 2000 data points with 5-minute intervals\n",
    "2. Base flow rate follows a normal distribution centered at 100 GPM with values clipped between 0-200 GPM\n",
    "3. Includes meter off periods (0 readings) for 10+ consecutive points\n",
    "4. Includes meter failure periods (1000 readings) for 5-50 consecutive points\n",
    "5. Adds 0.5% outliers (10 points) with values between 250-900 GPM\n",
    "6. Saves the data to a CSV file\n",
    "\n",
    "The data includes:\n",
    "\n",
    "* Timestamp column\n",
    "* Flow rate column\n",
    "* Random but realistic variations in normal operation\n",
    "* Multiple meter off and failure periods\n",
    "* Properly distributed outliers"
   ]
  },
  {
   "cell_type": "code",
   "execution_count": null,
   "metadata": {},
   "outputs": [],
   "source": [
    "\n",
    "import numpy as np\n",
    "import pandas as pd\n",
    "from datetime import datetime, timedelta\n",
    "import matplotlib.pyplot as plt\n"
   ]
  },
  {
   "cell_type": "code",
   "execution_count": 11,
   "metadata": {},
   "outputs": [
    {
     "name": "stdout",
     "output_type": "stream",
     "text": [
      "\n",
      "Dataset Statistics:\n",
      "Total points: 2000\n",
      "Number of zeros (meter off): 63\n",
      "Number of failures (500): 144\n",
      "Number of outliers (>200, <500): 2\n",
      "\n",
      "First few rows of the dataset:\n",
      "            timestamp   flow_rate\n",
      "0 2024-01-01 00:00:00   89.480059\n",
      "1 2024-01-01 00:05:00  145.479893\n",
      "2 2024-01-01 00:10:00  126.553333\n",
      "3 2024-01-01 00:15:00   80.167604\n",
      "4 2024-01-01 00:20:00   93.858660\n"
     ]
    }
   ],
   "source": [
    "def generate_flow_meter_data(n_points=2000, interval_minutes=5):\n",
    "    # Set random seed for reproducibility\n",
    "    np.random.seed(1976)\n",
    "    \n",
    "    # Generate base flow data (normal distribution around 100 GPM with std dev of 30)\n",
    "    flow_data = np.random.normal(100, 30, n_points)\n",
    "    \n",
    "    # Clip values between 0 and 200 GPM\n",
    "    flow_data = np.clip(flow_data, 0, 200)\n",
    "    \n",
    "    # Generate timestamps\n",
    "    start_time = datetime(2024, 1, 1)\n",
    "    timestamps = [start_time + timedelta(minutes=i*interval_minutes) for i in range(n_points)]\n",
    "    \n",
    "    # Create DataFrame\n",
    "    df = pd.DataFrame({\n",
    "        'timestamp': timestamps,\n",
    "        'flow_rate': flow_data\n",
    "    })\n",
    "    \n",
    "    # Add meter off periods (0 readings for 10+ consecutive points)\n",
    "    n_off_periods = np.random.randint(3, 6)  # 3-5 off periods\n",
    "    for _ in range(n_off_periods):\n",
    "        start_idx = np.random.randint(0, n_points - 20)\n",
    "        duration = np.random.randint(10, 50)  # 10-50 points\n",
    "        df.loc[start_idx:start_idx + duration, 'flow_rate'] = 0\n",
    "    \n",
    "    # Add meter failure periods (500 readings for 5-50 consecutive points)\n",
    "    n_failure_periods = np.random.randint(2, 4)  # 2-3 failure periods\n",
    "    for _ in range(n_failure_periods):\n",
    "        start_idx = np.random.randint(0, n_points - 51)\n",
    "        duration = np.random.randint(5, 101)  # 5-50 points\n",
    "        df.loc[start_idx:start_idx + duration, 'flow_rate'] = 500\n",
    "    \n",
    "    # Add outliers (0.5% of data points)\n",
    "    n_outliers = int(n_points * 0.005)  # 0.5% of points\n",
    "    outlier_indices = np.random.choice(\n",
    "        df.index[df['flow_rate'].between(0, 200)],  # Only select from normal readings\n",
    "        size=n_outliers,\n",
    "        replace=False\n",
    "    )\n",
    "    # Generate outliers between -10 and 300\n",
    "    df.loc[outlier_indices, 'flow_rate'] = np.random.uniform(-10, 300, n_outliers)\n",
    "    \n",
    "    return df\n",
    "\n",
    "# Generate the data\n",
    "flow_data = generate_flow_meter_data()\n",
    "\n",
    "# Print basic statistics and first few rows\n",
    "print(\"\\nDataset Statistics:\")\n",
    "print(f\"Total points: {len(flow_data)}\")\n",
    "print(f\"Number of zeros (meter off): {len(flow_data[flow_data['flow_rate'] == 0])}\")\n",
    "print(f\"Number of failures (500): {len(flow_data[flow_data['flow_rate'] == 500])}\")\n",
    "print(f\"Number of outliers (>200, <500): {len(flow_data[(flow_data['flow_rate'] > 200) & (flow_data['flow_rate'] < 500)])}\")\n",
    "\n",
    "# Save to CSV\n",
    "_date = datetime.today()  #create the todays date\n",
    "_date = _date.strftime(\"%Y%m%d\")\n",
    "\n",
    "title = 'simulated_data_basic_flow_meter_' + _date + \".csv\" #create title\n",
    "\n",
    "flow_data.to_csv(title, index=False)\n",
    "print(\"\\nFirst few rows of the dataset:\")\n",
    "print(flow_data.head())\n"
   ]
  },
  {
   "cell_type": "code",
   "execution_count": 6,
   "metadata": {},
   "outputs": [
    {
     "data": {
      "text/plain": [
       "'20250219'"
      ]
     },
     "execution_count": 6,
     "metadata": {},
     "output_type": "execute_result"
    }
   ],
   "source": []
  },
  {
   "cell_type": "code",
   "execution_count": 44,
   "metadata": {},
   "outputs": [
    {
     "data": {
      "text/html": [
       "<div>\n",
       "<style scoped>\n",
       "    .dataframe tbody tr th:only-of-type {\n",
       "        vertical-align: middle;\n",
       "    }\n",
       "\n",
       "    .dataframe tbody tr th {\n",
       "        vertical-align: top;\n",
       "    }\n",
       "\n",
       "    .dataframe thead th {\n",
       "        text-align: right;\n",
       "    }\n",
       "</style>\n",
       "<table border=\"1\" class=\"dataframe\">\n",
       "  <thead>\n",
       "    <tr style=\"text-align: right;\">\n",
       "      <th></th>\n",
       "      <th>timestamp</th>\n",
       "      <th>flow_rate</th>\n",
       "    </tr>\n",
       "  </thead>\n",
       "  <tbody>\n",
       "    <tr>\n",
       "      <th>0</th>\n",
       "      <td>2024-01-01 00:00:00</td>\n",
       "      <td>89.480059</td>\n",
       "    </tr>\n",
       "    <tr>\n",
       "      <th>1</th>\n",
       "      <td>2024-01-01 00:05:00</td>\n",
       "      <td>145.479893</td>\n",
       "    </tr>\n",
       "    <tr>\n",
       "      <th>2</th>\n",
       "      <td>2024-01-01 00:10:00</td>\n",
       "      <td>126.553333</td>\n",
       "    </tr>\n",
       "    <tr>\n",
       "      <th>3</th>\n",
       "      <td>2024-01-01 00:15:00</td>\n",
       "      <td>80.167604</td>\n",
       "    </tr>\n",
       "    <tr>\n",
       "      <th>4</th>\n",
       "      <td>2024-01-01 00:20:00</td>\n",
       "      <td>93.858660</td>\n",
       "    </tr>\n",
       "    <tr>\n",
       "      <th>...</th>\n",
       "      <td>...</td>\n",
       "      <td>...</td>\n",
       "    </tr>\n",
       "    <tr>\n",
       "      <th>1995</th>\n",
       "      <td>2024-01-07 22:15:00</td>\n",
       "      <td>119.502040</td>\n",
       "    </tr>\n",
       "    <tr>\n",
       "      <th>1996</th>\n",
       "      <td>2024-01-07 22:20:00</td>\n",
       "      <td>88.690286</td>\n",
       "    </tr>\n",
       "    <tr>\n",
       "      <th>1997</th>\n",
       "      <td>2024-01-07 22:25:00</td>\n",
       "      <td>92.226058</td>\n",
       "    </tr>\n",
       "    <tr>\n",
       "      <th>1998</th>\n",
       "      <td>2024-01-07 22:30:00</td>\n",
       "      <td>153.713038</td>\n",
       "    </tr>\n",
       "    <tr>\n",
       "      <th>1999</th>\n",
       "      <td>2024-01-07 22:35:00</td>\n",
       "      <td>87.690843</td>\n",
       "    </tr>\n",
       "  </tbody>\n",
       "</table>\n",
       "<p>2000 rows × 2 columns</p>\n",
       "</div>"
      ],
      "text/plain": [
       "               timestamp   flow_rate\n",
       "0    2024-01-01 00:00:00   89.480059\n",
       "1    2024-01-01 00:05:00  145.479893\n",
       "2    2024-01-01 00:10:00  126.553333\n",
       "3    2024-01-01 00:15:00   80.167604\n",
       "4    2024-01-01 00:20:00   93.858660\n",
       "...                  ...         ...\n",
       "1995 2024-01-07 22:15:00  119.502040\n",
       "1996 2024-01-07 22:20:00   88.690286\n",
       "1997 2024-01-07 22:25:00   92.226058\n",
       "1998 2024-01-07 22:30:00  153.713038\n",
       "1999 2024-01-07 22:35:00   87.690843\n",
       "\n",
       "[2000 rows x 2 columns]"
      ]
     },
     "execution_count": 44,
     "metadata": {},
     "output_type": "execute_result"
    }
   ],
   "source": [
    "flow_data"
   ]
  },
  {
   "cell_type": "markdown",
   "metadata": {},
   "source": [
    "Plot the data "
   ]
  },
  {
   "cell_type": "code",
   "execution_count": 45,
   "metadata": {},
   "outputs": [
    {
     "data": {
      "text/plain": [
       "(array([19723., 19724., 19725., 19726., 19727., 19728., 19729., 19730.]),\n",
       " [Text(19723.0, 0, '2024-01-01'),\n",
       "  Text(19724.0, 0, '2024-01-02'),\n",
       "  Text(19725.0, 0, '2024-01-03'),\n",
       "  Text(19726.0, 0, '2024-01-04'),\n",
       "  Text(19727.0, 0, '2024-01-05'),\n",
       "  Text(19728.0, 0, '2024-01-06'),\n",
       "  Text(19729.0, 0, '2024-01-07'),\n",
       "  Text(19730.0, 0, '2024-01-08')])"
      ]
     },
     "execution_count": 45,
     "metadata": {},
     "output_type": "execute_result"
    },
    {
     "data": {
      "image/png": "[encoded data removed]",
      "text/plain": [
       "<Figure size 640x480 with 1 Axes>"
      ]
     },
     "metadata": {},
     "output_type": "display_data"
    }
   ],
   "source": [
    "plt.plot(flow_data.timestamp, flow_data.flow_rate)\n",
    "\n",
    "#add title and labels\n",
    "plt.title(\"Sample Flow Data\")\n",
    "plt.xlabel(\"Datetime\")\n",
    "plt.ylabel(\"Flow\")\n",
    "\n",
    "\n",
    "#adjust ticks on x-axis for readability\n",
    "plt.xticks(rotation=30, ha='right')"
   ]
  },
  {
   "cell_type": "code",
   "execution_count": 46,
   "metadata": {},
   "outputs": [
    {
     "data": {
      "text/html": [
       "<div>\n",
       "<style scoped>\n",
       "    .dataframe tbody tr th:only-of-type {\n",
       "        vertical-align: middle;\n",
       "    }\n",
       "\n",
       "    .dataframe tbody tr th {\n",
       "        vertical-align: top;\n",
       "    }\n",
       "\n",
       "    .dataframe thead th {\n",
       "        text-align: right;\n",
       "    }\n",
       "</style>\n",
       "<table border=\"1\" class=\"dataframe\">\n",
       "  <thead>\n",
       "    <tr style=\"text-align: right;\">\n",
       "      <th></th>\n",
       "      <th>timestamp</th>\n",
       "      <th>flow_rate</th>\n",
       "    </tr>\n",
       "  </thead>\n",
       "  <tbody>\n",
       "    <tr>\n",
       "      <th>count</th>\n",
       "      <td>2000</td>\n",
       "      <td>2000.000000</td>\n",
       "    </tr>\n",
       "    <tr>\n",
       "      <th>mean</th>\n",
       "      <td>2024-01-04 11:17:30</td>\n",
       "      <td>125.965399</td>\n",
       "    </tr>\n",
       "    <tr>\n",
       "      <th>min</th>\n",
       "      <td>2024-01-01 00:00:00</td>\n",
       "      <td>0.000000</td>\n",
       "    </tr>\n",
       "    <tr>\n",
       "      <th>25%</th>\n",
       "      <td>2024-01-02 17:38:45</td>\n",
       "      <td>79.638218</td>\n",
       "    </tr>\n",
       "    <tr>\n",
       "      <th>50%</th>\n",
       "      <td>2024-01-04 11:17:30</td>\n",
       "      <td>102.578480</td>\n",
       "    </tr>\n",
       "    <tr>\n",
       "      <th>75%</th>\n",
       "      <td>2024-01-06 04:56:15</td>\n",
       "      <td>125.269860</td>\n",
       "    </tr>\n",
       "    <tr>\n",
       "      <th>max</th>\n",
       "      <td>2024-01-07 22:35:00</td>\n",
       "      <td>500.000000</td>\n",
       "    </tr>\n",
       "    <tr>\n",
       "      <th>std</th>\n",
       "      <td>NaN</td>\n",
       "      <td>109.327366</td>\n",
       "    </tr>\n",
       "  </tbody>\n",
       "</table>\n",
       "</div>"
      ],
      "text/plain": [
       "                 timestamp    flow_rate\n",
       "count                 2000  2000.000000\n",
       "mean   2024-01-04 11:17:30   125.965399\n",
       "min    2024-01-01 00:00:00     0.000000\n",
       "25%    2024-01-02 17:38:45    79.638218\n",
       "50%    2024-01-04 11:17:30   102.578480\n",
       "75%    2024-01-06 04:56:15   125.269860\n",
       "max    2024-01-07 22:35:00   500.000000\n",
       "std                    NaN   109.327366"
      ]
     },
     "execution_count": 46,
     "metadata": {},
     "output_type": "execute_result"
    }
   ],
   "source": [
    "flow_data.describe()"
   ]
  }
 ],
 "metadata": {
  "kernelspec": {
   "display_name": "python_20240807",
   "language": "python",
   "name": "python3"
  },
  "language_info": {
   "codemirror_mode": {
    "name": "ipython",
    "version": 3
   },
   "file_extension": ".py",
   "mimetype": "text/x-python",
   "name": "python",
   "nbconvert_exporter": "python",
   "pygments_lexer": "ipython3",
   "version": "3.10.14"
  }
 },
 "nbformat": 4,
 "nbformat_minor": 2
}
